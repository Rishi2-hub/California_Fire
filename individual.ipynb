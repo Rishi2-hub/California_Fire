{
 "cells": [
  {
   "cell_type": "code",
   "execution_count": 2,
   "id": "5dc7120e",
   "metadata": {},
   "outputs": [],
   "source": [
    "#importing data\n",
    "import pandas as pd\n",
    "import numpy as np\n",
    "import matplotlib.pyplot as plt\n",
    "from sklearn.model_selection import train_test_split\n",
    "from sklearn.linear_model import LinearRegression\n",
    "import statsmodels.api as sm\n",
    "from sklearn.ensemble import RandomForestClassifier\n",
    "from sklearn.metrics import accuracy_score, confusion_matrix, classification_report\n",
    "import time"
   ]
  },
  {
   "cell_type": "code",
   "execution_count": 3,
   "id": "ad8f3053",
   "metadata": {},
   "outputs": [],
   "source": [
    "# loading the dataset\n",
    "df = pd.read_csv(\"California_Fire_Incidents.csv\")\n",
    "df.columns = df.columns.str.strip().str.replace(' ', '').str.replace('-', '')"
   ]
  },
  {
   "cell_type": "code",
   "execution_count": 4,
   "id": "fe332360",
   "metadata": {},
   "outputs": [
    {
     "name": "stdout",
     "output_type": "stream",
     "text": [
      "<class 'pandas.core.frame.DataFrame'>\n",
      "RangeIndex: 1636 entries, 0 to 1635\n",
      "Data columns (total 40 columns):\n",
      " #   Column                Non-Null Count  Dtype  \n",
      "---  ------                --------------  -----  \n",
      " 0   AcresBurned           1633 non-null   float64\n",
      " 1   Active                1636 non-null   bool   \n",
      " 2   AdminUnit             1636 non-null   object \n",
      " 3   AirTankers            28 non-null     float64\n",
      " 4   ArchiveYear           1636 non-null   int64  \n",
      " 5   CalFireIncident       1636 non-null   bool   \n",
      " 6   CanonicalUrl          1636 non-null   object \n",
      " 7   ConditionStatement    284 non-null    object \n",
      " 8   ControlStatement      105 non-null    object \n",
      " 9   Counties              1636 non-null   object \n",
      " 10  CountyIds             1636 non-null   object \n",
      " 11  CrewsInvolved         171 non-null    float64\n",
      " 12  Dozers                123 non-null    float64\n",
      " 13  Engines               191 non-null    float64\n",
      " 14  Extinguished          1577 non-null   object \n",
      " 15  Fatalities            21 non-null     float64\n",
      " 16  Featured              1636 non-null   bool   \n",
      " 17  Final                 1636 non-null   bool   \n",
      " 18  FuelType              12 non-null     object \n",
      " 19  Helicopters           84 non-null     float64\n",
      " 20  Injuries              120 non-null    float64\n",
      " 21  Latitude              1636 non-null   float64\n",
      " 22  Location              1636 non-null   object \n",
      " 23  Longitude             1636 non-null   float64\n",
      " 24  MajorIncident         1636 non-null   bool   \n",
      " 25  Name                  1636 non-null   object \n",
      " 26  PercentContained      1633 non-null   float64\n",
      " 27  PersonnelInvolved     204 non-null    float64\n",
      " 28  Public                1636 non-null   bool   \n",
      " 29  SearchDescription     1619 non-null   object \n",
      " 30  SearchKeywords        1433 non-null   object \n",
      " 31  Started               1636 non-null   object \n",
      " 32  Status                1636 non-null   object \n",
      " 33  StructuresDamaged     67 non-null     float64\n",
      " 34  StructuresDestroyed   175 non-null    float64\n",
      " 35  StructuresEvacuated   0 non-null      float64\n",
      " 36  StructuresThreatened  30 non-null     float64\n",
      " 37  UniqueId              1636 non-null   object \n",
      " 38  Updated               1636 non-null   object \n",
      " 39  WaterTenders          146 non-null    float64\n",
      "dtypes: bool(6), float64(17), int64(1), object(16)\n",
      "memory usage: 444.3+ KB\n"
     ]
    }
   ],
   "source": [
    "df.head()  \n",
    "df.info()"
   ]
  },
  {
   "cell_type": "code",
   "execution_count": 5,
   "id": "c39873f6",
   "metadata": {},
   "outputs": [],
   "source": [
    "df['Started'] = pd.to_datetime(df['Started'], errors='coerce')\n"
   ]
  },
  {
   "cell_type": "code",
   "execution_count": 6,
   "id": "29543736",
   "metadata": {},
   "outputs": [],
   "source": [
    "# Drop missing date or burned area\n",
    "df = df.dropna(subset=['Started', 'AcresBurned'])"
   ]
  },
  {
   "cell_type": "code",
   "execution_count": 7,
   "id": "25b17939",
   "metadata": {},
   "outputs": [],
   "source": [
    "# Fill missing acres and remove zero entries\n",
    "df['AcresBurned'] = df['AcresBurned'].fillna(0)\n",
    "df = df[df['AcresBurned'] > 0]\n"
   ]
  },
  {
   "cell_type": "code",
   "execution_count": 8,
   "id": "7a7a2f09",
   "metadata": {},
   "outputs": [
    {
     "name": "stdout",
     "output_type": "stream",
     "text": [
      "['AcresBurned', 'Active', 'AdminUnit', 'AirTankers', 'ArchiveYear', 'CalFireIncident', 'CanonicalUrl', 'ConditionStatement', 'ControlStatement', 'Counties', 'CountyIds', 'CrewsInvolved', 'Dozers', 'Engines', 'Extinguished', 'Fatalities', 'Featured', 'Final', 'FuelType', 'Helicopters', 'Injuries', 'Latitude', 'Location', 'Longitude', 'MajorIncident', 'Name', 'PercentContained', 'PersonnelInvolved', 'Public', 'SearchDescription', 'SearchKeywords', 'Started', 'Status', 'StructuresDamaged', 'StructuresDestroyed', 'StructuresEvacuated', 'StructuresThreatened', 'UniqueId', 'Updated', 'WaterTenders']\n"
     ]
    }
   ],
   "source": [
    "print(df.columns.tolist())\n"
   ]
  },
  {
   "cell_type": "code",
   "execution_count": 9,
   "id": "32b96e04",
   "metadata": {},
   "outputs": [
    {
     "name": "stdout",
     "output_type": "stream",
     "text": [
      "   StartMonth  StartYear  AcresBurned  LargeFire\n",
      "0           8       2013     257314.0          1\n",
      "1           5       2013      30274.0          1\n",
      "2           7       2013      27531.0          1\n",
      "3           8       2013      27440.0          1\n",
      "4           5       2013      24251.0          1\n"
     ]
    }
   ],
   "source": [
    "# Extract useful time-based features\n",
    "df['StartYear'] = df['Started'].dt.year\n",
    "df['StartMonth'] = df['Started'].dt.month\n",
    "\n",
    "# A \"Large Fire\" is defined as burning more than 1000 acres\n",
    "df['LargeFire'] = (df['AcresBurned'] > 1000).astype(int)\n",
    "\n",
    "# Optional: Check resulting feature distribution\n",
    "print(df[['StartMonth', 'StartYear', 'AcresBurned', 'LargeFire']].head())\n"
   ]
  },
  {
   "cell_type": "code",
   "execution_count": 10,
   "id": "89ae5dce",
   "metadata": {},
   "outputs": [],
   "source": [
    "# STEP 3: Linear Regression (OLS)\n",
    "X = df[['StartMonth', 'StartYear']]\n",
    "y_reg = df['AcresBurned']\n",
    "# Add constant for statsmodels\n",
    "X_ols = sm.add_constant(X)\n",
    "ols_model = sm.OLS(y_reg, X_ols).fit()"
   ]
  },
  {
   "cell_type": "code",
   "execution_count": 11,
   "id": "f383dd8b",
   "metadata": {},
   "outputs": [
    {
     "name": "stdout",
     "output_type": "stream",
     "text": [
      "Full Summary of OLS Linear Regression\n",
      "                            OLS Regression Results                            \n",
      "==============================================================================\n",
      "Dep. Variable:            AcresBurned   R-squared:                       0.004\n",
      "Model:                            OLS   Adj. R-squared:                  0.002\n",
      "Method:                 Least Squares   F-statistic:                     2.942\n",
      "Date:                Tue, 15 Jul 2025   Prob (F-statistic):             0.0531\n",
      "Time:                        11:00:57   Log-Likelihood:                -18635.\n",
      "No. Observations:                1601   AIC:                         3.728e+04\n",
      "Df Residuals:                    1598   BIC:                         3.729e+04\n",
      "Df Model:                           2                                         \n",
      "Covariance Type:            nonrobust                                         \n",
      "==============================================================================\n",
      "                 coef    std err          t      P>|t|      [0.025      0.975]\n",
      "------------------------------------------------------------------------------\n",
      "const      -4.131e+05   5.55e+05     -0.745      0.457    -1.5e+06    6.75e+05\n",
      "StartMonth   876.2303    383.735      2.283      0.023     123.554    1628.907\n",
      "StartYear    203.9871    275.099      0.742      0.458    -335.605     743.579\n",
      "==============================================================================\n",
      "Omnibus:                     2661.276   Durbin-Watson:                   0.379\n",
      "Prob(Omnibus):                  0.000   Jarque-Bera (JB):          1339742.795\n",
      "Skew:                          10.967   Prob(JB):                         0.00\n",
      "Kurtosis:                     143.009   Cond. No.                     1.63e+06\n",
      "==============================================================================\n",
      "\n",
      "Notes:\n",
      "[1] Standard Errors assume that the covariance matrix of the errors is correctly specified.\n",
      "[2] The condition number is large, 1.63e+06. This might indicate that there are\n",
      "strong multicollinearity or other numerical problems.\n"
     ]
    }
   ],
   "source": [
    "#Print summary with R², p-values\n",
    "print(\"Full Summary of OLS Linear Regression\")\n",
    "print(ols_model.summary())"
   ]
  },
  {
   "cell_type": "code",
   "execution_count": 12,
   "id": "897640f3",
   "metadata": {},
   "outputs": [
    {
     "name": "stdout",
     "output_type": "stream",
     "text": [
      "0       1\n",
      "1       1\n",
      "2       1\n",
      "3       1\n",
      "4       1\n",
      "       ..\n",
      "1628    0\n",
      "1629    0\n",
      "1630    0\n",
      "1631    0\n",
      "1632    0\n",
      "Name: LargeFire, Length: 1601, dtype: int32\n",
      "      StartMonth  StartYear\n",
      "639            6       2017\n",
      "704           10       2017\n",
      "716            5       2017\n",
      "502            5       2016\n",
      "1193           6       2018\n",
      "...          ...        ...\n",
      "1154           8       2018\n",
      "1318           4       2018\n",
      "871           10       2017\n",
      "1487          10       2019\n",
      "1150           6       2018\n",
      "\n",
      "[1280 rows x 2 columns]\n"
     ]
    }
   ],
   "source": [
    "# STEP 4: Random Forest Classification\n",
    "y_clf = df['LargeFire']\n",
    "X_train, X_test, y_train, y_test = train_test_split(X, y_clf, test_size=0.2, random_state=42)\n",
    "print(y_clf)\n",
    "print(X_train)"
   ]
  },
  {
   "cell_type": "code",
   "execution_count": 13,
   "id": "4fb34717",
   "metadata": {},
   "outputs": [
    {
     "name": "stdout",
     "output_type": "stream",
     "text": [
      "\n",
      "Normal Random Forest\n",
      "Accuracy: 0.822429906542056\n",
      "Training Time at Normal: 0.162 sec\n",
      "Confusion Matrix:\n",
      " [[259   7]\n",
      " [ 50   5]]\n",
      "Classification Report:\n",
      "               precision    recall  f1-score   support\n",
      "\n",
      "           0       0.84      0.97      0.90       266\n",
      "           1       0.42      0.09      0.15        55\n",
      "\n",
      "    accuracy                           0.82       321\n",
      "   macro avg       0.63      0.53      0.53       321\n",
      "weighted avg       0.77      0.82      0.77       321\n",
      "\n"
     ]
    }
   ],
   "source": [
    "# Random Forest - Normal (Single Core)\n",
    "print(\"\\nNormal Random Forest\")\n",
    "start_normal = time.time()\n",
    "rf_normal = RandomForestClassifier(n_estimators=100, n_jobs=1, random_state=42)\n",
    "rf_normal.fit(X_train, y_train)\n",
    "y_pred_normal = rf_normal.predict(X_test)\n",
    "end_normal = time.time()\n",
    "\n",
    "print(\"Accuracy:\", accuracy_score(y_test, y_pred_normal))\n",
    "print(\"Training Time at Normal:\", round(end_normal - start_normal, 3), \"sec\")\n",
    "print(\"Confusion Matrix:\\n\", confusion_matrix(y_test, y_pred_normal))\n",
    "print(\"Classification Report:\\n\", classification_report(y_test, y_pred_normal))"
   ]
  },
  {
   "cell_type": "code",
   "execution_count": 14,
   "id": "d4099f85",
   "metadata": {},
   "outputs": [
    {
     "name": "stdout",
     "output_type": "stream",
     "text": [
      "\n",
      "Random forest for Paraller included all cores\n",
      "Accuracy of Parallel: 0.822429906542056\n",
      "Training Time for Parallel: 0.29 sec\n",
      "Confusion Matrix:\n",
      " [[259   7]\n",
      " [ 50   5]]\n",
      "Classification Report:\n",
      "               precision    recall  f1-score   support\n",
      "\n",
      "           0       0.84      0.97      0.90       266\n",
      "           1       0.42      0.09      0.15        55\n",
      "\n",
      "    accuracy                           0.82       321\n",
      "   macro avg       0.63      0.53      0.53       321\n",
      "weighted avg       0.77      0.82      0.77       321\n",
      "\n"
     ]
    }
   ],
   "source": [
    "# Random Forest - Parallel (All Cores) multi-cores\n",
    "print(\"\\nRandom forest for Paraller included all cores\")\n",
    "start_parallel = time.time()\n",
    "rf_parallel = RandomForestClassifier(n_estimators=100, n_jobs=-1, random_state=42)\n",
    "rf_parallel.fit(X_train, y_train)\n",
    "y_pred_parallel = rf_parallel.predict(X_test)\n",
    "end_parallel = time.time()\n",
    "\n",
    "print(\"Accuracy of Parallel:\", accuracy_score(y_test, y_pred_parallel))\n",
    "print(\"Training Time for Parallel:\", round(end_parallel - start_parallel, 3), \"sec\")\n",
    "print(\"Confusion Matrix:\\n\", confusion_matrix(y_test, y_pred_parallel))\n",
    "print(\"Classification Report:\\n\", classification_report(y_test, y_pred_parallel))\n"
   ]
  },
  {
   "cell_type": "code",
   "execution_count": 16,
   "id": "412723f6",
   "metadata": {},
   "outputs": [
    {
     "data": {
      "image/png": "[encoded data removed]",
      "text/plain": [
       "<Figure size 1200x500 with 2 Axes>"
      ]
     },
     "metadata": {},
     "output_type": "display_data"
    }
   ],
   "source": [
    "# STEP 5: Visualize Accuracy vs Time\n",
    "labels = ['Normal', 'Parallel']\n",
    "accuracy = [\n",
    "    accuracy_score(y_test, y_pred_normal),\n",
    "    accuracy_score(y_test, y_pred_parallel)\n",
    "]\n",
    "training_time = [\n",
    "    round(end_normal - start_normal, 2),\n",
    "    round(end_parallel - start_parallel, 2)\n",
    "]\n",
    "\n",
    "plt.figure(figsize=(12, 5))\n",
    "\n",
    "plt.subplot(1, 2, 1)\n",
    "plt.bar(labels, accuracy, color='#2a3c90')\n",
    "plt.ylabel(\"Accuracy\")\n",
    "plt.title(\"Accuracy Comparison of Random Forest\")\n",
    "\n",
    "plt.subplot(1, 2, 2)\n",
    "plt.bar(labels, training_time, color='#990000')\n",
    "plt.ylabel(\"Training Time in sec\")\n",
    "plt.title(\"Training Time Comparison [Normal vs Parallel]\")\n",
    "\n",
    "plt.tight_layout()\n",
    "plt.show()"
   ]
  }
 ],
 "metadata": {
  "kernelspec": {
   "display_name": "base",
   "language": "python",
   "name": "python3"
  },
  "language_info": {
   "codemirror_mode": {
    "name": "ipython",
    "version": 3
   },
   "file_extension": ".py",
   "mimetype": "text/x-python",
   "name": "python",
   "nbconvert_exporter": "python",
   "pygments_lexer": "ipython3",
   "version": "3.12.7"
  }
 },
 "nbformat": 4,
 "nbformat_minor": 5
}
